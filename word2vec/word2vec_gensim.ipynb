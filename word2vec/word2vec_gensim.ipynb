{
 "cells": [
  {
   "cell_type": "code",
   "execution_count": null,
   "id": "ad6fad28-5825-41d0-8af4-5364c11c4032",
   "metadata": {},
   "outputs": [],
   "source": [
    "import pandas as pd\n",
    "from gensim.models import Word2Vec\n",
    "\n",
    "# 加载数据\n",
    "data = pd.read_csv(\"../train.csv\")\n",
    "print(\"数据样例：\\n\", data.head(2))\n",
    "\n",
    "# 文本预处理（假设已分词）\n",
    "sentences = [text.split() for text in data['text']]\n",
    "print(\"\\n处理后的句子样例：\", sentences[0])\n",
    "\n",
    "# 单元格1：Skip-Gram模型训练\n",
    "model_sg = Word2Vec(\n",
    "    sentences,\n",
    "    vector_size=100,  # 向量维度\n",
    "    window=5,         # 上下文窗口\n",
    "    min_count=1,      # 最小词频\n",
    "    sg=1,             # 1=Skip-Gram, 0=CBOW\n",
    "    workers=4         # 并行线程数\n",
    ")\n",
    "print(\"Skip-Gram模型训练完成！\")"
   ]
  },
  {
   "cell_type": "code",
   "execution_count": null,
   "id": "a5cc9b4c-68a7-4bca-8e7c-081a41c2c8db",
   "metadata": {},
   "outputs": [],
   "source": [
    "# 单元格1：Skip-Gram模型训练\n",
    "model_sg = Word2Vec(\n",
    "    sentences,\n",
    "    vector_size=100,  # 向量维度\n",
    "    window=5,         # 上下文窗口\n",
    "    min_count=1,      # 最小词频\n",
    "    sg=1,             # 1=Skip-Gram, 0=CBOW\n",
    "    workers=4         # 并行线程数\n",
    ")\n",
    "print(\"Skip-Gram模型训练完成！\")"
   ]
  },
  {
   "cell_type": "code",
   "execution_count": null,
   "id": "13c6f240-2cf9-4504-972d-cc8fa19a0634",
   "metadata": {},
   "outputs": [],
   "source": [
    "# 单元格3：查找相似词\n",
    "similar_words = model_sg.wv.most_similar(\"好吃\", topn=3)\n",
    "print(\"与'好吃'最接近的3个词：\")\n",
    "for word, similarity in similar_words:\n",
    "    print(f\"{word}: {similarity:.4f}\")"
   ]
  },
  {
   "cell_type": "code",
   "execution_count": null,
   "id": "115c4a6b-1e25-4896-8777-3ff08dfae024",
   "metadata": {},
   "outputs": [],
   "source": [
    "# 单元格4：计算相似度\n",
    "sim1 = model_sg.wv.similarity(\"好吃\", \"美味\")\n",
    "sim2 = model_sg.wv.similarity(\"好吃\", \"蟑螂\")\n",
    "print(f\"'好吃' vs '美味': {sim1:.4f}\")\n",
    "print(f\"'好吃' vs '蟑螂': {sim2:.4f}\")"
   ]
  },
  {
   "cell_type": "code",
   "execution_count": null,
   "id": "443c2e99-0627-404e-91be-da3975374b91",
   "metadata": {},
   "outputs": [],
   "source": [
    "# 单元格5：类比推理\n",
    "result = model_sg.wv.most_similar(\n",
    "    positive=[\"餐厅\", \"聚会\"], \n",
    "    negative=[\"安静\"], \n",
    "    topn=1\n",
    ")\n",
    "print(\"餐厅 + 聚会 - 安静 ≈\", result[0][0])"
   ]
  }
 ],
 "metadata": {
  "kernelspec": {
   "display_name": "",
   "name": ""
  },
  "language_info": {
   "name": ""
  }
 },
 "nbformat": 4,
 "nbformat_minor": 5
}
